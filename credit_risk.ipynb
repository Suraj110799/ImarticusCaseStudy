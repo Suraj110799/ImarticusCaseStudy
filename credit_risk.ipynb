{
 "cells": [
  {
   "cell_type": "code",
   "execution_count": 1,
   "metadata": {
    "collapsed": true
   },
   "outputs": [],
   "source": [
    "import pandas as pd\n",
    "import numpy as np\n",
    "import matplotlib.pyplot as plt\n",
    "import seaborn as sns\n",
    "% matplotlib inline"
   ]
  },
  {
   "cell_type": "code",
   "execution_count": 2,
   "metadata": {},
   "outputs": [
    {
     "name": "stderr",
     "output_type": "stream",
     "text": [
      "<string>:2: DtypeWarning: Columns (17,45,53) have mixed types. Specify dtype option on import or set low_memory=False.\n"
     ]
    },
    {
     "name": "stdout",
     "output_type": "stream",
     "text": [
      "Wall time: 1min 24s\n"
     ]
    }
   ],
   "source": [
    "%time df=pd.read_table(r'C:\\Project\\XYZCorp_LendingData.txt',parse_dates=['issue_d'])"
   ]
  },
  {
   "cell_type": "code",
   "execution_count": 3,
   "metadata": {
    "collapsed": true
   },
   "outputs": [],
   "source": [
    "df1=df.copy()"
   ]
  },
  {
   "cell_type": "code",
   "execution_count": 4,
   "metadata": {},
   "outputs": [
    {
     "data": {
      "text/html": [
       "<div>\n",
       "<style>\n",
       "    .dataframe thead tr:only-child th {\n",
       "        text-align: right;\n",
       "    }\n",
       "\n",
       "    .dataframe thead th {\n",
       "        text-align: left;\n",
       "    }\n",
       "\n",
       "    .dataframe tbody tr th {\n",
       "        vertical-align: top;\n",
       "    }\n",
       "</style>\n",
       "<table border=\"1\" class=\"dataframe\">\n",
       "  <thead>\n",
       "    <tr style=\"text-align: right;\">\n",
       "      <th></th>\n",
       "      <th>id</th>\n",
       "      <th>member_id</th>\n",
       "      <th>loan_amnt</th>\n",
       "      <th>funded_amnt</th>\n",
       "      <th>funded_amnt_inv</th>\n",
       "      <th>term</th>\n",
       "      <th>int_rate</th>\n",
       "      <th>installment</th>\n",
       "      <th>grade</th>\n",
       "      <th>sub_grade</th>\n",
       "      <th>...</th>\n",
       "      <th>il_util</th>\n",
       "      <th>open_rv_12m</th>\n",
       "      <th>open_rv_24m</th>\n",
       "      <th>max_bal_bc</th>\n",
       "      <th>all_util</th>\n",
       "      <th>total_rev_hi_lim</th>\n",
       "      <th>inq_fi</th>\n",
       "      <th>total_cu_tl</th>\n",
       "      <th>inq_last_12m</th>\n",
       "      <th>default_ind</th>\n",
       "    </tr>\n",
       "  </thead>\n",
       "  <tbody>\n",
       "    <tr>\n",
       "      <th>0</th>\n",
       "      <td>1077501</td>\n",
       "      <td>1296599</td>\n",
       "      <td>5000.0</td>\n",
       "      <td>5000.0</td>\n",
       "      <td>4975.0</td>\n",
       "      <td>36 months</td>\n",
       "      <td>10.65</td>\n",
       "      <td>162.87</td>\n",
       "      <td>B</td>\n",
       "      <td>B2</td>\n",
       "      <td>...</td>\n",
       "      <td>NaN</td>\n",
       "      <td>NaN</td>\n",
       "      <td>NaN</td>\n",
       "      <td>NaN</td>\n",
       "      <td>NaN</td>\n",
       "      <td>NaN</td>\n",
       "      <td>NaN</td>\n",
       "      <td>NaN</td>\n",
       "      <td>NaN</td>\n",
       "      <td>0</td>\n",
       "    </tr>\n",
       "    <tr>\n",
       "      <th>1</th>\n",
       "      <td>1077430</td>\n",
       "      <td>1314167</td>\n",
       "      <td>2500.0</td>\n",
       "      <td>2500.0</td>\n",
       "      <td>2500.0</td>\n",
       "      <td>60 months</td>\n",
       "      <td>15.27</td>\n",
       "      <td>59.83</td>\n",
       "      <td>C</td>\n",
       "      <td>C4</td>\n",
       "      <td>...</td>\n",
       "      <td>NaN</td>\n",
       "      <td>NaN</td>\n",
       "      <td>NaN</td>\n",
       "      <td>NaN</td>\n",
       "      <td>NaN</td>\n",
       "      <td>NaN</td>\n",
       "      <td>NaN</td>\n",
       "      <td>NaN</td>\n",
       "      <td>NaN</td>\n",
       "      <td>1</td>\n",
       "    </tr>\n",
       "    <tr>\n",
       "      <th>2</th>\n",
       "      <td>1077175</td>\n",
       "      <td>1313524</td>\n",
       "      <td>2400.0</td>\n",
       "      <td>2400.0</td>\n",
       "      <td>2400.0</td>\n",
       "      <td>36 months</td>\n",
       "      <td>15.96</td>\n",
       "      <td>84.33</td>\n",
       "      <td>C</td>\n",
       "      <td>C5</td>\n",
       "      <td>...</td>\n",
       "      <td>NaN</td>\n",
       "      <td>NaN</td>\n",
       "      <td>NaN</td>\n",
       "      <td>NaN</td>\n",
       "      <td>NaN</td>\n",
       "      <td>NaN</td>\n",
       "      <td>NaN</td>\n",
       "      <td>NaN</td>\n",
       "      <td>NaN</td>\n",
       "      <td>0</td>\n",
       "    </tr>\n",
       "    <tr>\n",
       "      <th>3</th>\n",
       "      <td>1076863</td>\n",
       "      <td>1277178</td>\n",
       "      <td>10000.0</td>\n",
       "      <td>10000.0</td>\n",
       "      <td>10000.0</td>\n",
       "      <td>36 months</td>\n",
       "      <td>13.49</td>\n",
       "      <td>339.31</td>\n",
       "      <td>C</td>\n",
       "      <td>C1</td>\n",
       "      <td>...</td>\n",
       "      <td>NaN</td>\n",
       "      <td>NaN</td>\n",
       "      <td>NaN</td>\n",
       "      <td>NaN</td>\n",
       "      <td>NaN</td>\n",
       "      <td>NaN</td>\n",
       "      <td>NaN</td>\n",
       "      <td>NaN</td>\n",
       "      <td>NaN</td>\n",
       "      <td>0</td>\n",
       "    </tr>\n",
       "    <tr>\n",
       "      <th>4</th>\n",
       "      <td>1075358</td>\n",
       "      <td>1311748</td>\n",
       "      <td>3000.0</td>\n",
       "      <td>3000.0</td>\n",
       "      <td>3000.0</td>\n",
       "      <td>60 months</td>\n",
       "      <td>12.69</td>\n",
       "      <td>67.79</td>\n",
       "      <td>B</td>\n",
       "      <td>B5</td>\n",
       "      <td>...</td>\n",
       "      <td>NaN</td>\n",
       "      <td>NaN</td>\n",
       "      <td>NaN</td>\n",
       "      <td>NaN</td>\n",
       "      <td>NaN</td>\n",
       "      <td>NaN</td>\n",
       "      <td>NaN</td>\n",
       "      <td>NaN</td>\n",
       "      <td>NaN</td>\n",
       "      <td>0</td>\n",
       "    </tr>\n",
       "  </tbody>\n",
       "</table>\n",
       "<p>5 rows × 73 columns</p>\n",
       "</div>"
      ],
      "text/plain": [
       "        id  member_id  loan_amnt  funded_amnt  funded_amnt_inv        term  \\\n",
       "0  1077501    1296599     5000.0       5000.0           4975.0   36 months   \n",
       "1  1077430    1314167     2500.0       2500.0           2500.0   60 months   \n",
       "2  1077175    1313524     2400.0       2400.0           2400.0   36 months   \n",
       "3  1076863    1277178    10000.0      10000.0          10000.0   36 months   \n",
       "4  1075358    1311748     3000.0       3000.0           3000.0   60 months   \n",
       "\n",
       "   int_rate  installment grade sub_grade     ...     il_util open_rv_12m  \\\n",
       "0     10.65       162.87     B        B2     ...         NaN         NaN   \n",
       "1     15.27        59.83     C        C4     ...         NaN         NaN   \n",
       "2     15.96        84.33     C        C5     ...         NaN         NaN   \n",
       "3     13.49       339.31     C        C1     ...         NaN         NaN   \n",
       "4     12.69        67.79     B        B5     ...         NaN         NaN   \n",
       "\n",
       "  open_rv_24m  max_bal_bc all_util total_rev_hi_lim inq_fi total_cu_tl  \\\n",
       "0         NaN         NaN      NaN              NaN    NaN         NaN   \n",
       "1         NaN         NaN      NaN              NaN    NaN         NaN   \n",
       "2         NaN         NaN      NaN              NaN    NaN         NaN   \n",
       "3         NaN         NaN      NaN              NaN    NaN         NaN   \n",
       "4         NaN         NaN      NaN              NaN    NaN         NaN   \n",
       "\n",
       "  inq_last_12m default_ind  \n",
       "0          NaN           0  \n",
       "1          NaN           1  \n",
       "2          NaN           0  \n",
       "3          NaN           0  \n",
       "4          NaN           0  \n",
       "\n",
       "[5 rows x 73 columns]"
      ]
     },
     "execution_count": 4,
     "metadata": {},
     "output_type": "execute_result"
    }
   ],
   "source": [
    "df1.head()"
   ]
  },
  {
   "cell_type": "code",
   "execution_count": 5,
   "metadata": {},
   "outputs": [
    {
     "data": {
      "text/plain": [
       "(855969, 73)"
      ]
     },
     "execution_count": 5,
     "metadata": {},
     "output_type": "execute_result"
    }
   ],
   "source": [
    "df1.shape"
   ]
  },
  {
   "cell_type": "code",
   "execution_count": 7,
   "metadata": {},
   "outputs": [
    {
     "data": {
      "text/plain": [
       "id                                  0\n",
       "member_id                           0\n",
       "loan_amnt                           0\n",
       "funded_amnt                         0\n",
       "funded_amnt_inv                     0\n",
       "term                                0\n",
       "int_rate                            0\n",
       "installment                         0\n",
       "grade                               0\n",
       "sub_grade                           0\n",
       "emp_title                       49439\n",
       "emp_length                          0\n",
       "home_ownership                      0\n",
       "annual_inc                          0\n",
       "verification_status                 0\n",
       "issue_d                             0\n",
       "pymnt_plan                          0\n",
       "desc                           734156\n",
       "purpose                             0\n",
       "title                              32\n",
       "zip_code                            0\n",
       "addr_state                          0\n",
       "dti                                 0\n",
       "delinq_2yrs                         0\n",
       "earliest_cr_line                    0\n",
       "inq_last_6mths                      0\n",
       "mths_since_last_delinq         439812\n",
       "mths_since_last_record         724785\n",
       "open_acc                            0\n",
       "pub_rec                             0\n",
       "                                ...  \n",
       "last_pymnt_d                     8862\n",
       "last_pymnt_amnt                     0\n",
       "next_pymnt_d                   252971\n",
       "last_credit_pull_d                 50\n",
       "collections_12_mths_ex_med         56\n",
       "mths_since_last_major_derog    642830\n",
       "policy_code                         0\n",
       "application_type                    0\n",
       "annual_inc_joint               855527\n",
       "dti_joint                      855529\n",
       "verification_status_joint      855527\n",
       "acc_now_delinq                      0\n",
       "tot_coll_amt                    67313\n",
       "tot_cur_bal                     67313\n",
       "open_acc_6m                    842681\n",
       "open_il_6m                     842681\n",
       "open_il_12m                    842681\n",
       "open_il_24m                    842681\n",
       "mths_since_rcnt_il             843035\n",
       "total_bal_il                   842681\n",
       "il_util                        844360\n",
       "open_rv_12m                    842681\n",
       "open_rv_24m                    842681\n",
       "max_bal_bc                     842681\n",
       "all_util                       842681\n",
       "total_rev_hi_lim                67313\n",
       "inq_fi                         842681\n",
       "total_cu_tl                    842681\n",
       "inq_last_12m                   842681\n",
       "default_ind                         0\n",
       "Length: 73, dtype: int64"
      ]
     },
     "execution_count": 7,
     "metadata": {},
     "output_type": "execute_result"
    }
   ],
   "source": [
    "df1.isnull().sum()"
   ]
  },
  {
   "cell_type": "code",
   "execution_count": 11,
   "metadata": {},
   "outputs": [
    {
     "data": {
      "text/plain": [
       "dti_joint                      99.948596\n",
       "annual_inc_joint               99.948363\n",
       "verification_status_joint      99.948363\n",
       "il_util                        98.643759\n",
       "mths_since_rcnt_il             98.488964\n",
       "inq_last_12m                   98.447607\n",
       "total_bal_il                   98.447607\n",
       "open_acc_6m                    98.447607\n",
       "open_il_12m                    98.447607\n",
       "open_il_24m                    98.447607\n",
       "open_il_6m                     98.447607\n",
       "open_rv_12m                    98.447607\n",
       "total_cu_tl                    98.447607\n",
       "max_bal_bc                     98.447607\n",
       "all_util                       98.447607\n",
       "open_rv_24m                    98.447607\n",
       "inq_fi                         98.447607\n",
       "desc                           85.768994\n",
       "mths_since_last_record         84.674211\n",
       "mths_since_last_major_derog    75.099682\n",
       "mths_since_last_delinq         51.381767\n",
       "next_pymnt_d                   29.553757\n",
       "tot_coll_amt                    7.863953\n",
       "tot_cur_bal                     7.863953\n",
       "total_rev_hi_lim                7.863953\n",
       "emp_title                       5.775793\n",
       "last_pymnt_d                    1.035318\n",
       "revol_util                      0.052105\n",
       "collections_12_mths_ex_med      0.006542\n",
       "last_credit_pull_d              0.005841\n",
       "                                 ...    \n",
       "term                            0.000000\n",
       "funded_amnt_inv                 0.000000\n",
       "addr_state                      0.000000\n",
       "funded_amnt                     0.000000\n",
       "loan_amnt                       0.000000\n",
       "member_id                       0.000000\n",
       "zip_code                        0.000000\n",
       "total_pymnt                     0.000000\n",
       "dti                             0.000000\n",
       "delinq_2yrs                     0.000000\n",
       "acc_now_delinq                  0.000000\n",
       "application_type                0.000000\n",
       "policy_code                     0.000000\n",
       "last_pymnt_amnt                 0.000000\n",
       "collection_recovery_fee         0.000000\n",
       "recoveries                      0.000000\n",
       "total_rec_late_fee              0.000000\n",
       "total_rec_int                   0.000000\n",
       "total_rec_prncp                 0.000000\n",
       "total_pymnt_inv                 0.000000\n",
       "out_prncp_inv                   0.000000\n",
       "out_prncp                       0.000000\n",
       "initial_list_status             0.000000\n",
       "total_acc                       0.000000\n",
       "revol_bal                       0.000000\n",
       "pub_rec                         0.000000\n",
       "open_acc                        0.000000\n",
       "inq_last_6mths                  0.000000\n",
       "earliest_cr_line                0.000000\n",
       "id                              0.000000\n",
       "Length: 73, dtype: float64"
      ]
     },
     "execution_count": 11,
     "metadata": {},
     "output_type": "execute_result"
    }
   ],
   "source": [
    "(df1.isnull().sum()/len(df1)*100).sort_values(ascending=False)"
   ]
  },
  {
   "cell_type": "code",
   "execution_count": 18,
   "metadata": {
    "collapsed": true
   },
   "outputs": [],
   "source": [
    "df1.dropna(thresh=len(df1)/2,axis =1,inplace=True)"
   ]
  },
  {
   "cell_type": "code",
   "execution_count": 19,
   "metadata": {},
   "outputs": [
    {
     "data": {
      "text/plain": [
       "next_pymnt_d                  29.553757\n",
       "total_rev_hi_lim               7.863953\n",
       "tot_cur_bal                    7.863953\n",
       "tot_coll_amt                   7.863953\n",
       "emp_title                      5.775793\n",
       "last_pymnt_d                   1.035318\n",
       "revol_util                     0.052105\n",
       "collections_12_mths_ex_med     0.006542\n",
       "last_credit_pull_d             0.005841\n",
       "title                          0.003738\n",
       "zip_code                       0.000000\n",
       "home_ownership                 0.000000\n",
       "purpose                        0.000000\n",
       "pymnt_plan                     0.000000\n",
       "issue_d                        0.000000\n",
       "verification_status            0.000000\n",
       "annual_inc                     0.000000\n",
       "default_ind                    0.000000\n",
       "grade                          0.000000\n",
       "emp_length                     0.000000\n",
       "sub_grade                      0.000000\n",
       "dti                            0.000000\n",
       "installment                    0.000000\n",
       "int_rate                       0.000000\n",
       "term                           0.000000\n",
       "funded_amnt_inv                0.000000\n",
       "funded_amnt                    0.000000\n",
       "loan_amnt                      0.000000\n",
       "member_id                      0.000000\n",
       "addr_state                     0.000000\n",
       "open_acc                       0.000000\n",
       "delinq_2yrs                    0.000000\n",
       "total_rec_prncp                0.000000\n",
       "acc_now_delinq                 0.000000\n",
       "application_type               0.000000\n",
       "policy_code                    0.000000\n",
       "last_pymnt_amnt                0.000000\n",
       "collection_recovery_fee        0.000000\n",
       "recoveries                     0.000000\n",
       "total_rec_late_fee             0.000000\n",
       "total_rec_int                  0.000000\n",
       "total_pymnt_inv                0.000000\n",
       "earliest_cr_line               0.000000\n",
       "total_pymnt                    0.000000\n",
       "out_prncp_inv                  0.000000\n",
       "out_prncp                      0.000000\n",
       "initial_list_status            0.000000\n",
       "total_acc                      0.000000\n",
       "revol_bal                      0.000000\n",
       "pub_rec                        0.000000\n",
       "inq_last_6mths                 0.000000\n",
       "id                             0.000000\n",
       "dtype: float64"
      ]
     },
     "execution_count": 19,
     "metadata": {},
     "output_type": "execute_result"
    }
   ],
   "source": [
    "(df1.isnull().sum()/len(df1)*100).sort_values(ascending=False)"
   ]
  },
  {
   "cell_type": "code",
   "execution_count": 20,
   "metadata": {},
   "outputs": [
    {
     "data": {
      "text/plain": [
       "(855969, 52)"
      ]
     },
     "execution_count": 20,
     "metadata": {},
     "output_type": "execute_result"
    }
   ],
   "source": [
    "df1.shape"
   ]
  },
  {
   "cell_type": "code",
   "execution_count": 21,
   "metadata": {},
   "outputs": [
    {
     "data": {
      "text/plain": [
       "dtype('O')"
      ]
     },
     "execution_count": 21,
     "metadata": {},
     "output_type": "execute_result"
    }
   ],
   "source": [
    "df1.next_pymnt_d.dtype"
   ]
  },
  {
   "cell_type": "code",
   "execution_count": 25,
   "metadata": {},
   "outputs": [
    {
     "data": {
      "text/plain": [
       "id                                     int64\n",
       "member_id                              int64\n",
       "loan_amnt                            float64\n",
       "funded_amnt                          float64\n",
       "funded_amnt_inv                      float64\n",
       "term                                  object\n",
       "int_rate                             float64\n",
       "installment                          float64\n",
       "grade                                 object\n",
       "sub_grade                             object\n",
       "emp_title                             object\n",
       "emp_length                            object\n",
       "home_ownership                        object\n",
       "annual_inc                           float64\n",
       "verification_status                   object\n",
       "issue_d                       datetime64[ns]\n",
       "pymnt_plan                            object\n",
       "purpose                               object\n",
       "title                                 object\n",
       "zip_code                              object\n",
       "addr_state                            object\n",
       "dti                                  float64\n",
       "delinq_2yrs                          float64\n",
       "earliest_cr_line                      object\n",
       "inq_last_6mths                       float64\n",
       "open_acc                             float64\n",
       "pub_rec                              float64\n",
       "revol_bal                            float64\n",
       "revol_util                           float64\n",
       "total_acc                            float64\n",
       "initial_list_status                   object\n",
       "out_prncp                            float64\n",
       "out_prncp_inv                        float64\n",
       "total_pymnt                          float64\n",
       "total_pymnt_inv                      float64\n",
       "total_rec_prncp                      float64\n",
       "total_rec_int                        float64\n",
       "total_rec_late_fee                   float64\n",
       "recoveries                           float64\n",
       "collection_recovery_fee              float64\n",
       "last_pymnt_d                          object\n",
       "last_pymnt_amnt                      float64\n",
       "next_pymnt_d                          object\n",
       "last_credit_pull_d                    object\n",
       "collections_12_mths_ex_med           float64\n",
       "policy_code                          float64\n",
       "application_type                      object\n",
       "acc_now_delinq                       float64\n",
       "tot_coll_amt                         float64\n",
       "tot_cur_bal                          float64\n",
       "total_rev_hi_lim                     float64\n",
       "default_ind                            int64\n",
       "dtype: object"
      ]
     },
     "execution_count": 25,
     "metadata": {},
     "output_type": "execute_result"
    }
   ],
   "source": [
    "df1.dtypes"
   ]
  },
  {
   "cell_type": "code",
   "execution_count": 30,
   "metadata": {},
   "outputs": [
    {
     "ename": "SyntaxError",
     "evalue": "invalid syntax (<ipython-input-30-483c2883df4d>, line 1)",
     "output_type": "error",
     "traceback": [
      "\u001b[1;36m  File \u001b[1;32m\"<ipython-input-30-483c2883df4d>\"\u001b[1;36m, line \u001b[1;32m1\u001b[0m\n\u001b[1;33m    df1.dropna['title',axis=1,inplace=True]\u001b[0m\n\u001b[1;37m                           ^\u001b[0m\n\u001b[1;31mSyntaxError\u001b[0m\u001b[1;31m:\u001b[0m invalid syntax\n"
     ]
    }
   ],
   "source": [
    "df1.dropna['title',axis=1,inplace=True]"
   ]
  },
  {
   "cell_type": "code",
   "execution_count": 32,
   "metadata": {},
   "outputs": [],
   "source": [
    "df1.drop('title',axis=1,inplace=True)"
   ]
  },
  {
   "cell_type": "code",
   "execution_count": 33,
   "metadata": {
    "collapsed": true
   },
   "outputs": [],
   "source": [
    "df1.drop('emp_title',axis=1,inplace=True)"
   ]
  },
  {
   "cell_type": "markdown",
   "metadata": {},
   "source": [
    "(df1.isnull().sum()/len(df1)*100).sort_values(ascending=False)"
   ]
  },
  {
   "cell_type": "code",
   "execution_count": 35,
   "metadata": {
    "collapsed": true
   },
   "outputs": [],
   "source": [
    "df1.drop('next_pymnt_d',axis=1,inplace=True)"
   ]
  },
  {
   "cell_type": "code",
   "execution_count": 51,
   "metadata": {},
   "outputs": [
    {
     "data": {
      "text/plain": [
       "tot_cur_bal                   7.863953\n",
       "tot_coll_amt                  7.863953\n",
       "total_rev_hi_lim              7.863953\n",
       "last_pymnt_d                  1.035318\n",
       "revol_util                    0.052105\n",
       "collections_12_mths_ex_med    0.006542\n",
       "last_credit_pull_d            0.005841\n",
       "default_ind                   0.000000\n",
       "home_ownership                0.000000\n",
       "addr_state                    0.000000\n",
       "zip_code                      0.000000\n",
       "purpose                       0.000000\n",
       "pymnt_plan                    0.000000\n",
       "issue_d                       0.000000\n",
       "verification_status           0.000000\n",
       "annual_inc                    0.000000\n",
       "grade                         0.000000\n",
       "emp_length                    0.000000\n",
       "sub_grade                     0.000000\n",
       "delinq_2yrs                   0.000000\n",
       "installment                   0.000000\n",
       "int_rate                      0.000000\n",
       "term                          0.000000\n",
       "funded_amnt_inv               0.000000\n",
       "funded_amnt                   0.000000\n",
       "loan_amnt                     0.000000\n",
       "member_id                     0.000000\n",
       "dti                           0.000000\n",
       "pub_rec                       0.000000\n",
       "earliest_cr_line              0.000000\n",
       "inq_last_6mths                0.000000\n",
       "acc_now_delinq                0.000000\n",
       "application_type              0.000000\n",
       "policy_code                   0.000000\n",
       "last_pymnt_amnt               0.000000\n",
       "collection_recovery_fee       0.000000\n",
       "recoveries                    0.000000\n",
       "total_rec_late_fee            0.000000\n",
       "total_rec_int                 0.000000\n",
       "total_rec_prncp               0.000000\n",
       "total_pymnt_inv               0.000000\n",
       "total_pymnt                   0.000000\n",
       "out_prncp_inv                 0.000000\n",
       "out_prncp                     0.000000\n",
       "initial_list_status           0.000000\n",
       "total_acc                     0.000000\n",
       "revol_bal                     0.000000\n",
       "open_acc                      0.000000\n",
       "id                            0.000000\n",
       "dtype: float64"
      ]
     },
     "execution_count": 51,
     "metadata": {},
     "output_type": "execute_result"
    }
   ],
   "source": [
    "(df1.isnull().sum()/len(df1)*100).sort_values(ascending=False)"
   ]
  },
  {
   "cell_type": "code",
   "execution_count": 40,
   "metadata": {},
   "outputs": [
    {
     "ename": "SyntaxError",
     "evalue": "invalid syntax (<ipython-input-40-f8e7f2585756>, line 2)",
     "output_type": "error",
     "traceback": [
      "\u001b[1;36m  File \u001b[1;32m\"<ipython-input-40-f8e7f2585756>\"\u001b[1;36m, line \u001b[1;32m2\u001b[0m\n\u001b[1;33m    'last_credit_pull_d').dtype\u001b[0m\n\u001b[1;37m                        ^\u001b[0m\n\u001b[1;31mSyntaxError\u001b[0m\u001b[1;31m:\u001b[0m invalid syntax\n"
     ]
    }
   ],
   "source": [
    "#df1['tot_cur_bal','tot_coll_amt','total_rev_hi_lim','lst_pymnt_d','revol_util','collections_12_mths_ex_med',\n",
    "    'last_credit_pull_d').dtype"
   ]
  },
  {
   "cell_type": "code",
   "execution_count": 44,
   "metadata": {},
   "outputs": [
    {
     "data": {
      "text/plain": [
       "dtype('float64')"
      ]
     },
     "execution_count": 44,
     "metadata": {},
     "output_type": "execute_result"
    }
   ],
   "source": [
    "df1['tot_cur_bal'].dtype"
   ]
  },
  {
   "cell_type": "code",
   "execution_count": 45,
   "metadata": {},
   "outputs": [
    {
     "data": {
      "text/plain": [
       "dtype('float64')"
      ]
     },
     "execution_count": 45,
     "metadata": {},
     "output_type": "execute_result"
    }
   ],
   "source": [
    "df1['tot_coll_amt'].dtype"
   ]
  },
  {
   "cell_type": "code",
   "execution_count": 47,
   "metadata": {},
   "outputs": [
    {
     "data": {
      "text/plain": [
       "dtype('float64')"
      ]
     },
     "execution_count": 47,
     "metadata": {},
     "output_type": "execute_result"
    }
   ],
   "source": [
    "df1['total_rev_hi_lim'].dtype"
   ]
  },
  {
   "cell_type": "code",
   "execution_count": 48,
   "metadata": {},
   "outputs": [
    {
     "data": {
      "text/plain": [
       "dtype('O')"
      ]
     },
     "execution_count": 48,
     "metadata": {},
     "output_type": "execute_result"
    }
   ],
   "source": [
    "df1['last_pymnt_d'].dtype"
   ]
  },
  {
   "cell_type": "code",
   "execution_count": 49,
   "metadata": {},
   "outputs": [
    {
     "data": {
      "text/plain": [
       "dtype('float64')"
      ]
     },
     "execution_count": 49,
     "metadata": {},
     "output_type": "execute_result"
    }
   ],
   "source": [
    "df1['revol_util'].dtype"
   ]
  },
  {
   "cell_type": "code",
   "execution_count": 50,
   "metadata": {},
   "outputs": [
    {
     "data": {
      "text/plain": [
       "dtype('float64')"
      ]
     },
     "execution_count": 50,
     "metadata": {},
     "output_type": "execute_result"
    }
   ],
   "source": [
    "df1['collections_12_mths_ex_med'].dtype"
   ]
  },
  {
   "cell_type": "code",
   "execution_count": 52,
   "metadata": {},
   "outputs": [
    {
     "data": {
      "text/plain": [
       "dtype('O')"
      ]
     },
     "execution_count": 52,
     "metadata": {},
     "output_type": "execute_result"
    }
   ],
   "source": [
    "df1['last_credit_pull_d'].dtype"
   ]
  },
  {
   "cell_type": "code",
   "execution_count": 55,
   "metadata": {},
   "outputs": [
    {
     "data": {
      "text/plain": [
       "id                                  0\n",
       "member_id                           0\n",
       "loan_amnt                           0\n",
       "funded_amnt                         0\n",
       "funded_amnt_inv                     0\n",
       "term                                0\n",
       "int_rate                            0\n",
       "installment                         0\n",
       "grade                               0\n",
       "sub_grade                           0\n",
       "emp_title                       49439\n",
       "emp_length                          0\n",
       "home_ownership                      0\n",
       "annual_inc                          0\n",
       "verification_status                 0\n",
       "issue_d                             0\n",
       "pymnt_plan                          0\n",
       "desc                           734156\n",
       "purpose                             0\n",
       "title                              32\n",
       "zip_code                            0\n",
       "addr_state                          0\n",
       "dti                                 0\n",
       "delinq_2yrs                         0\n",
       "earliest_cr_line                    0\n",
       "inq_last_6mths                      0\n",
       "mths_since_last_delinq         439812\n",
       "mths_since_last_record         724785\n",
       "open_acc                            0\n",
       "pub_rec                             0\n",
       "                                ...  \n",
       "last_pymnt_d                     8862\n",
       "last_pymnt_amnt                     0\n",
       "next_pymnt_d                   252971\n",
       "last_credit_pull_d                 50\n",
       "collections_12_mths_ex_med         56\n",
       "mths_since_last_major_derog    642830\n",
       "policy_code                         0\n",
       "application_type                    0\n",
       "annual_inc_joint               855527\n",
       "dti_joint                      855529\n",
       "verification_status_joint      855527\n",
       "acc_now_delinq                      0\n",
       "tot_coll_amt                    67313\n",
       "tot_cur_bal                     67313\n",
       "open_acc_6m                    842681\n",
       "open_il_6m                     842681\n",
       "open_il_12m                    842681\n",
       "open_il_24m                    842681\n",
       "mths_since_rcnt_il             843035\n",
       "total_bal_il                   842681\n",
       "il_util                        844360\n",
       "open_rv_12m                    842681\n",
       "open_rv_24m                    842681\n",
       "max_bal_bc                     842681\n",
       "all_util                       842681\n",
       "total_rev_hi_lim                67313\n",
       "inq_fi                         842681\n",
       "total_cu_tl                    842681\n",
       "inq_last_12m                   842681\n",
       "default_ind                         0\n",
       "Length: 73, dtype: int64"
      ]
     },
     "execution_count": 55,
     "metadata": {},
     "output_type": "execute_result"
    }
   ],
   "source": [
    "for value in ['tot_cur_bal','tot_coll_amt','total_rev_hi_lim','revol_util','collections_12_mths_ex_med']:\n",
    "    df1[value].fillna(df1[value].mean(),inplace=True)\n",
    "df.isnull().sum()"
   ]
  },
  {
   "cell_type": "code",
   "execution_count": 56,
   "metadata": {},
   "outputs": [
    {
     "ename": "NameError",
     "evalue": "name 'colname' is not defined",
     "output_type": "error",
     "traceback": [
      "\u001b[1;31m---------------------------------------------------------------------------\u001b[0m",
      "\u001b[1;31mNameError\u001b[0m                                 Traceback (most recent call last)",
      "\u001b[1;32m<ipython-input-56-8d0c3b28ca58>\u001b[0m in \u001b[0;36m<module>\u001b[1;34m()\u001b[0m\n\u001b[0;32m      1\u001b[0m \u001b[1;32mfrom\u001b[0m \u001b[0msklearn\u001b[0m \u001b[1;32mimport\u001b[0m \u001b[0mpreprocessing\u001b[0m\u001b[1;33m\u001b[0m\u001b[0m\n\u001b[0;32m      2\u001b[0m \u001b[0mle\u001b[0m\u001b[1;33m=\u001b[0m\u001b[1;33m{\u001b[0m\u001b[1;33m}\u001b[0m\u001b[1;33m\u001b[0m\u001b[0m\n\u001b[1;32m----> 3\u001b[1;33m \u001b[1;32mfor\u001b[0m \u001b[0mx\u001b[0m \u001b[1;32min\u001b[0m \u001b[0mcolname\u001b[0m\u001b[1;33m:\u001b[0m\u001b[1;33m\u001b[0m\u001b[0m\n\u001b[0m\u001b[0;32m      4\u001b[0m     \u001b[0mle\u001b[0m\u001b[1;33m[\u001b[0m\u001b[0mx\u001b[0m\u001b[1;33m]\u001b[0m\u001b[1;33m=\u001b[0m\u001b[0mpreprocessing\u001b[0m\u001b[1;33m.\u001b[0m\u001b[0mLabelEncoder\u001b[0m\u001b[1;33m(\u001b[0m\u001b[1;33m)\u001b[0m\u001b[1;33m\u001b[0m\u001b[0m\n\u001b[0;32m      5\u001b[0m \u001b[1;32mfor\u001b[0m \u001b[0mx\u001b[0m \u001b[1;32min\u001b[0m \u001b[0mcolname\u001b[0m\u001b[1;33m:\u001b[0m\u001b[1;33m\u001b[0m\u001b[0m\n",
      "\u001b[1;31mNameError\u001b[0m: name 'colname' is not defined"
     ]
    }
   ],
   "source": [
    "from sklearn import preprocessing\n",
    "le={}\n",
    "for x in colname:\n",
    "    le[x]=preprocessing.LabelEncoder()\n",
    "for x in colname:\n",
    "    df1[x]=le[x].fit_transform(df1[x])"
   ]
  },
  {
   "cell_type": "code",
   "execution_count": 57,
   "metadata": {},
   "outputs": [
    {
     "data": {
      "text/plain": [
       "last_pymnt_d                  1.035318\n",
       "last_credit_pull_d            0.005841\n",
       "default_ind                   0.000000\n",
       "home_ownership                0.000000\n",
       "delinq_2yrs                   0.000000\n",
       "dti                           0.000000\n",
       "addr_state                    0.000000\n",
       "zip_code                      0.000000\n",
       "purpose                       0.000000\n",
       "pymnt_plan                    0.000000\n",
       "issue_d                       0.000000\n",
       "verification_status           0.000000\n",
       "annual_inc                    0.000000\n",
       "sub_grade                     0.000000\n",
       "emp_length                    0.000000\n",
       "inq_last_6mths                0.000000\n",
       "grade                         0.000000\n",
       "installment                   0.000000\n",
       "int_rate                      0.000000\n",
       "term                          0.000000\n",
       "funded_amnt_inv               0.000000\n",
       "funded_amnt                   0.000000\n",
       "loan_amnt                     0.000000\n",
       "member_id                     0.000000\n",
       "earliest_cr_line              0.000000\n",
       "pub_rec                       0.000000\n",
       "open_acc                      0.000000\n",
       "total_rec_late_fee            0.000000\n",
       "tot_cur_bal                   0.000000\n",
       "tot_coll_amt                  0.000000\n",
       "acc_now_delinq                0.000000\n",
       "application_type              0.000000\n",
       "policy_code                   0.000000\n",
       "collections_12_mths_ex_med    0.000000\n",
       "last_pymnt_amnt               0.000000\n",
       "collection_recovery_fee       0.000000\n",
       "recoveries                    0.000000\n",
       "total_rec_int                 0.000000\n",
       "total_rev_hi_lim              0.000000\n",
       "total_rec_prncp               0.000000\n",
       "total_pymnt_inv               0.000000\n",
       "total_pymnt                   0.000000\n",
       "out_prncp_inv                 0.000000\n",
       "out_prncp                     0.000000\n",
       "initial_list_status           0.000000\n",
       "total_acc                     0.000000\n",
       "revol_util                    0.000000\n",
       "revol_bal                     0.000000\n",
       "id                            0.000000\n",
       "dtype: float64"
      ]
     },
     "execution_count": 57,
     "metadata": {},
     "output_type": "execute_result"
    }
   ],
   "source": [
    "(df1.isnull().sum()/len(df1)*100).sort_values(ascending=False)"
   ]
  },
  {
   "cell_type": "code",
   "execution_count": 60,
   "metadata": {},
   "outputs": [
    {
     "data": {
      "text/plain": [
       "count       855919\n",
       "unique         102\n",
       "top       Jan-2016\n",
       "freq        701687\n",
       "Name: last_credit_pull_d, dtype: object"
      ]
     },
     "execution_count": 60,
     "metadata": {},
     "output_type": "execute_result"
    }
   ],
   "source": [
    "df1.last_credit_pull_d.describe()"
   ]
  },
  {
   "cell_type": "code",
   "execution_count": 61,
   "metadata": {
    "collapsed": true
   },
   "outputs": [],
   "source": [
    "df1.last_credit_pull_d.fillna('Jan-2016', inplace=True)"
   ]
  },
  {
   "cell_type": "code",
   "execution_count": 62,
   "metadata": {},
   "outputs": [
    {
     "data": {
      "text/plain": [
       "count       847107\n",
       "unique          97\n",
       "top       Jan-2016\n",
       "freq        467510\n",
       "Name: last_pymnt_d, dtype: object"
      ]
     },
     "execution_count": 62,
     "metadata": {},
     "output_type": "execute_result"
    }
   ],
   "source": [
    "df1.last_pymnt_d.describe()"
   ]
  },
  {
   "cell_type": "code",
   "execution_count": 63,
   "metadata": {
    "collapsed": true
   },
   "outputs": [],
   "source": [
    "df1.last_pymnt_d.fillna('Jan-2016', inplace=True)"
   ]
  },
  {
   "cell_type": "code",
   "execution_count": 64,
   "metadata": {},
   "outputs": [
    {
     "data": {
      "text/plain": [
       "default_ind                   0.0\n",
       "open_acc                      0.0\n",
       "earliest_cr_line              0.0\n",
       "delinq_2yrs                   0.0\n",
       "dti                           0.0\n",
       "addr_state                    0.0\n",
       "zip_code                      0.0\n",
       "purpose                       0.0\n",
       "pymnt_plan                    0.0\n",
       "issue_d                       0.0\n",
       "verification_status           0.0\n",
       "annual_inc                    0.0\n",
       "home_ownership                0.0\n",
       "emp_length                    0.0\n",
       "sub_grade                     0.0\n",
       "grade                         0.0\n",
       "installment                   0.0\n",
       "int_rate                      0.0\n",
       "term                          0.0\n",
       "funded_amnt_inv               0.0\n",
       "funded_amnt                   0.0\n",
       "loan_amnt                     0.0\n",
       "member_id                     0.0\n",
       "inq_last_6mths                0.0\n",
       "pub_rec                       0.0\n",
       "total_rev_hi_lim              0.0\n",
       "revol_bal                     0.0\n",
       "tot_cur_bal                   0.0\n",
       "tot_coll_amt                  0.0\n",
       "acc_now_delinq                0.0\n",
       "application_type              0.0\n",
       "policy_code                   0.0\n",
       "collections_12_mths_ex_med    0.0\n",
       "last_credit_pull_d            0.0\n",
       "last_pymnt_amnt               0.0\n",
       "last_pymnt_d                  0.0\n",
       "collection_recovery_fee       0.0\n",
       "recoveries                    0.0\n",
       "total_rec_late_fee            0.0\n",
       "total_rec_int                 0.0\n",
       "total_rec_prncp               0.0\n",
       "total_pymnt_inv               0.0\n",
       "total_pymnt                   0.0\n",
       "out_prncp_inv                 0.0\n",
       "out_prncp                     0.0\n",
       "initial_list_status           0.0\n",
       "total_acc                     0.0\n",
       "revol_util                    0.0\n",
       "id                            0.0\n",
       "dtype: float64"
      ]
     },
     "execution_count": 64,
     "metadata": {},
     "output_type": "execute_result"
    }
   ],
   "source": [
    "(df1.isnull().sum()/len(df1)*100).sort_values(ascending=False)"
   ]
  },
  {
   "cell_type": "code",
   "execution_count": null,
   "metadata": {
    "collapsed": true
   },
   "outputs": [],
   "source": []
  }
 ],
 "metadata": {
  "kernelspec": {
   "display_name": "Python 3",
   "language": "python",
   "name": "python3"
  },
  "language_info": {
   "codemirror_mode": {
    "name": "ipython",
    "version": 3
   },
   "file_extension": ".py",
   "mimetype": "text/x-python",
   "name": "python",
   "nbconvert_exporter": "python",
   "pygments_lexer": "ipython3",
   "version": "3.6.2"
  }
 },
 "nbformat": 4,
 "nbformat_minor": 2
}
