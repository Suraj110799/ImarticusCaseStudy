{
  "cells": [
    {
      "metadata": {
        "_uuid": "c4d45bb0c6b3f847c7ac16d53e98c7dd3484578f"
      },
      "cell_type": "markdown",
      "source": "# Import "
    },
    {
      "metadata": {
        "_uuid": "8f2839f25d086af736a60e9eeb907d3b93b6e0e5",
        "_cell_guid": "b1076dfc-b9ad-4769-8c92-a6c4dae69d19",
        "trusted": true
      },
      "cell_type": "code",
      "source": "import pandas as pd\nimport numpy as np\nimport matplotlib.pyplot as plt\nimport seaborn as sns\nplt.style.use('fivethirtyeight')\n% matplotlib inline",
      "execution_count": null,
      "outputs": []
    },
    {
      "metadata": {
        "trusted": true,
        "_uuid": "d464eabf76280976170e159a4347c3a18247d686"
      },
      "cell_type": "code",
      "source": "path = '../input/'\n! ls {path}",
      "execution_count": null,
      "outputs": []
    },
    {
      "metadata": {
        "_cell_guid": "79c7e3d0-c299-4dcb-8224-4455121ee9b0",
        "_uuid": "d629ff2d2480ee46fbb7e2d37f6b5fab8052498a",
        "trusted": true
      },
      "cell_type": "code",
      "source": "%time data = pd.read_table('../input/XYZCorp_LendingData.txt',parse_dates=['issue_d'],low_memory=False)",
      "execution_count": null,
      "outputs": []
    },
    {
      "metadata": {
        "_uuid": "9e8896ac2a6fdbbf3cce7515d67782f7b9dbd718"
      },
      "cell_type": "markdown",
      "source": "It's good practice to do not look at the test set so I am going to seperate test data from total data "
    },
    {
      "metadata": {
        "trusted": true,
        "_uuid": "acb72b1c0bf71eb88b79247815ed5362f0623000"
      },
      "cell_type": "code",
      "source": "train_df = data[data['issue_d'] < '2015-6-01']\ntest_df = data[data['issue_d'] >= '2015-6-01']",
      "execution_count": null,
      "outputs": []
    },
    {
      "metadata": {
        "_uuid": "a0cadad9a0942e6920d4a4dd5f142b5fdb6043a9"
      },
      "cell_type": "markdown",
      "source": "# Preprocessing"
    },
    {
      "metadata": {
        "trusted": true,
        "_uuid": "dcedb9ba7a95280f41c8fb67743dc65dd5f32299"
      },
      "cell_type": "code",
      "source": "train = train_df.copy()\ntest = test_df.copy()",
      "execution_count": null,
      "outputs": []
    },
    {
      "metadata": {
        "trusted": true,
        "_uuid": "29eaf6050979b3e3d9728b5c821b315c3efd4420"
      },
      "cell_type": "code",
      "source": "train.dtypes.value_counts()",
      "execution_count": null,
      "outputs": []
    },
    {
      "metadata": {
        "trusted": true,
        "_uuid": "ef4b6d6df41d0e837945a2c7db382c837e0b17b5",
        "scrolled": true
      },
      "cell_type": "code",
      "source": "train['issue_d'].describe()",
      "execution_count": null,
      "outputs": []
    },
    {
      "metadata": {
        "trusted": true,
        "_uuid": "dd7af1ba8d062a92e1cb285875d45c1c1b38821d"
      },
      "cell_type": "code",
      "source": "test['issue_d'].describe()",
      "execution_count": null,
      "outputs": []
    },
    {
      "metadata": {
        "trusted": true,
        "_uuid": "874f70927044eefae3190e8c4991ab036dad62c7"
      },
      "cell_type": "code",
      "source": "print(train.shape)\nprint(test.shape)",
      "execution_count": null,
      "outputs": []
    },
    {
      "metadata": {
        "_uuid": "c64648ca412dc310aab96bae3e8777fcb6685909"
      },
      "cell_type": "markdown",
      "source": "**Destribution of dependent variable**"
    },
    {
      "metadata": {
        "trusted": true,
        "scrolled": true,
        "_uuid": "32349110f04b0205e1fbd768993895f97bded363"
      },
      "cell_type": "code",
      "source": "train['default_ind'].value_counts().plot.bar()",
      "execution_count": null,
      "outputs": []
    },
    {
      "metadata": {
        "_uuid": "d426821f93532ef0d8ab325e1814c4e8e1edb0f6"
      },
      "cell_type": "markdown",
      "source": "**Describution of independent variable**"
    },
    {
      "metadata": {
        "trusted": true,
        "_uuid": "31b5ed67e8498ec4c1d21338276568670bde24df"
      },
      "cell_type": "code",
      "source": "train.head()",
      "execution_count": null,
      "outputs": []
    },
    {
      "metadata": {
        "trusted": true,
        "_uuid": "2369de48053ded3b01792b88f7908cdb8b0115b8"
      },
      "cell_type": "code",
      "source": "train.describe()",
      "execution_count": null,
      "outputs": []
    },
    {
      "metadata": {
        "trusted": true,
        "_uuid": "881f6324f612e14917cb92520396dfb651413708"
      },
      "cell_type": "code",
      "source": "train.describe(exclude=np.number)",
      "execution_count": null,
      "outputs": []
    },
    {
      "metadata": {
        "trusted": true,
        "_uuid": "c8de8a2f275b882557e181521fdff05e9e985945"
      },
      "cell_type": "code",
      "source": "train.dtypes.value_counts()",
      "execution_count": null,
      "outputs": []
    },
    {
      "metadata": {
        "_uuid": "69843f4f2f0ae42fead7b2b89b87d7119efb6b7b"
      },
      "cell_type": "markdown",
      "source": "## Missing Value Treatement"
    },
    {
      "metadata": {
        "trusted": true,
        "_uuid": "97b4f02037082b8d4fcdc92f1fbfa01c3507a8f5"
      },
      "cell_type": "code",
      "source": "def missing_values_table(df):\n    total_missing = df.isnull().sum().sort_values(ascending=False)\n    percentage_missing = (100*df.isnull().sum()/len(df)).sort_values(ascending=False)\n    missing_table = pd.DataFrame({'missing values':total_missing,'% missing':percentage_missing})\n    return missing_table",
      "execution_count": null,
      "outputs": []
    },
    {
      "metadata": {
        "trusted": true,
        "_uuid": "2f0497bcbc993b302c9e4347c7c84063f2a83124"
      },
      "cell_type": "code",
      "source": "missing_values = missing_values_table(train)\nmissing_values.head(20)",
      "execution_count": null,
      "outputs": []
    },
    {
      "metadata": {
        "trusted": true,
        "_uuid": "9a3aff7d656862c57153357323c2188809b63bc5"
      },
      "cell_type": "code",
      "source": "train.dtypes.value_counts()",
      "execution_count": null,
      "outputs": []
    },
    {
      "metadata": {
        "trusted": true,
        "_uuid": "05190f120bfd8b954fe4112aef82b828d4abddc4"
      },
      "cell_type": "code",
      "source": "def to_datepart(df,fldname,drop=False):\n    fld = df[fldname]\n    fld_dtype = fld.dtype\n    targ_pre = re.sub('[Dd]ate$', '', fldname)\n    attr = ['Year', 'Month', 'Week', 'Day', 'Dayofweek', 'Dayofyear',\n            'Is_month_end', 'Is_month_start', 'Is_quarter_end', 'Is_quarter_start', \n            'Is_year_end', 'Is_year_start']\n    for n in attr: df[targ_pre + n] = getattr(fld.dt, n.lower())\n    df[targ_pre + 'Elapsed'] = fld.astype(np.int64)\n    if drop: df.drop(fldname, axis=1, inplace=True)",
      "execution_count": null,
      "outputs": []
    },
    {
      "metadata": {
        "trusted": true,
        "_uuid": "57428a95a1a2ca146f09324e49e3072c6752289a"
      },
      "cell_type": "code",
      "source": "import re\nto_datepart(train,'issue_d',drop=True)\nto_datepart(test,'issue_d',drop=True)",
      "execution_count": null,
      "outputs": []
    },
    {
      "metadata": {
        "trusted": true,
        "_uuid": "6dbdecf9f7c977ce5c2bf494625841c30e7a30d5"
      },
      "cell_type": "code",
      "source": "def treat_missing(df):\n    for c in df.columns:\n        if df[c].dtype == 'object':\n            df.fillna(df[c].mode()[0],inplace=True)\n        else:\n            df.fillna(df[c].median(),inplace=True)",
      "execution_count": null,
      "outputs": []
    },
    {
      "metadata": {
        "trusted": true,
        "_uuid": "985053b227bdfd24c6e688f1935739c2b4f179ce"
      },
      "cell_type": "code",
      "source": "treat_missing(train)\ntreat_missing(test)",
      "execution_count": null,
      "outputs": []
    },
    {
      "metadata": {
        "trusted": true,
        "_uuid": "bf9a991d6b1c57b8cb10921d3f567b6e1705f5f7"
      },
      "cell_type": "markdown",
      "source": "## Treating Categorical Values"
    },
    {
      "metadata": {
        "trusted": true,
        "_uuid": "44d6a2070a6efd389dba75917b668d6b1e57a0c6"
      },
      "cell_type": "code",
      "source": "def train_cat(df):\n    for n,c in df.items():\n        if df[n].dtype == 'object': df[n] = c.astype('category').cat.as_ordered()",
      "execution_count": null,
      "outputs": []
    },
    {
      "metadata": {
        "trusted": true,
        "_uuid": "6d1d0d9341914e4de44d9ce5434daf0450cfdc04"
      },
      "cell_type": "code",
      "source": "train_cat(train)\ntrain_cat(test)",
      "execution_count": null,
      "outputs": []
    },
    {
      "metadata": {
        "trusted": true,
        "_uuid": "73fdd482821e9cf39e354a7b96836f43765b58c6",
        "scrolled": true
      },
      "cell_type": "code",
      "source": "train.select_dtypes('category').apply(pd.Series.nunique, axis = 0)",
      "execution_count": null,
      "outputs": []
    },
    {
      "metadata": {
        "trusted": true,
        "_uuid": "775d374dfd716067134a4e44969308316bcfa481"
      },
      "cell_type": "code",
      "source": "to_drop = ['sub_grade','emp_title','desc','title','zip_code',\n           'addr_state','earliest_cr_line','last_pymnt_d','last_credit_pull_d']",
      "execution_count": null,
      "outputs": []
    },
    {
      "metadata": {
        "trusted": true,
        "_uuid": "00d71643649eb0f9be6d8f664de3e2a8505ef191"
      },
      "cell_type": "code",
      "source": "train.drop(to_drop,axis=1,inplace=True)\ntest.drop(to_drop,axis=1,inplace=True)",
      "execution_count": null,
      "outputs": []
    },
    {
      "metadata": {
        "_uuid": "f0dd267d36c292bc0d62c5bf9385719b5eb2e74e"
      },
      "cell_type": "markdown",
      "source": "## EDA"
    },
    {
      "metadata": {
        "trusted": true,
        "_uuid": "fba837982ddf47b7486501a50a6e21eb0db37ce7"
      },
      "cell_type": "code",
      "source": "correlation = train.corr()['default_ind'].sort_values(ascending=False)\ncorrelation.dropna(inplace=True)",
      "execution_count": null,
      "outputs": []
    },
    {
      "metadata": {
        "trusted": true,
        "scrolled": true,
        "_uuid": "46339e14162fd4fb4de6df9365dc501dabd4253c"
      },
      "cell_type": "code",
      "source": "fig,array = plt.subplots(1,2,figsize=(12,3))\ncorrelation.head(10).plot.bar(ax=array[0])\ncorrelation.tail(10).plot.bar(ax=array[1])",
      "execution_count": null,
      "outputs": []
    },
    {
      "metadata": {
        "trusted": true,
        "scrolled": true,
        "_uuid": "113ef0dc270f9b2a034c8dc167cd20837196c150"
      },
      "cell_type": "code",
      "source": "plt.figure(figsize=(12,8))\nsns.kdeplot(train.loc[train['default_ind']==0,'issue_dYear'],label='default_ind = 0')\nsns.kdeplot(train.loc[train['default_ind']==1,'issue_dYear'],label='default_ind = 1')\nplt.xlabel('Year'); plt.ylabel('Density'); plt.title('Distribution of defaulter');",
      "execution_count": null,
      "outputs": []
    },
    {
      "metadata": {
        "_uuid": "45639864dc7d92ff480e9bda2b1d7cc752c4c917"
      },
      "cell_type": "markdown",
      "source": "### Loan Purpose"
    },
    {
      "metadata": {
        "trusted": true,
        "scrolled": true,
        "_uuid": "9c6ea7bc92bb5159d23157b610518744442405c2"
      },
      "cell_type": "code",
      "source": "train.purpose.value_counts(ascending=False).plot.bar(figsize=(8,6))\nplt.xlabel('purpose'); plt.ylabel('Density'); plt.title('Purpose of loan');",
      "execution_count": null,
      "outputs": []
    },
    {
      "metadata": {
        "_uuid": "8a5972a920bf2b31cbbd3571244e449dea052410"
      },
      "cell_type": "markdown",
      "source": "**Debt Consolidation** stands as clear winner for loan purpose, with more than 350K loans — or 58% from the total.<br/>\n\nOther highlights include:\n\n**Credit Card**  — more than 130K (~20%)<br>\n**Home Improvement **— more than 135K (~6%)<br>\n**Other Purposes** — less than 30K (~4%)"
    },
    {
      "metadata": {
        "_uuid": "5973c4d8375fdf2a0930d44f64bc491fbe9e4753"
      },
      "cell_type": "markdown",
      "source": "## Delinquent Loans"
    },
    {
      "metadata": {
        "trusted": true,
        "_uuid": "f79d82fdb2b3d8782ec1917f168cfe7f32bd104d"
      },
      "cell_type": "code",
      "source": "train.grade.value_counts().plot.bar()",
      "execution_count": null,
      "outputs": []
    },
    {
      "metadata": {
        "trusted": true,
        "scrolled": true,
        "_uuid": "72a055fc8439948c58213e952fa76f4f7c0e991d"
      },
      "cell_type": "code",
      "source": "fig,array=plt.subplots(1,2,figsize=(12,5))\ntrain.loc[train['default_ind']==0,'grade'].value_counts().plot.bar(ax=array[0])\ntrain.loc[train['default_ind']==1,'grade'].value_counts().plot.bar(ax=array[1])\narray[0].set_title('default_ind=0 vs grade'),array[1].set_title('default_ind=1 vs grade')",
      "execution_count": null,
      "outputs": []
    },
    {
      "metadata": {
        "trusted": true,
        "_uuid": "f320920fbd843325082c0cf77c0fa2419afc9168"
      },
      "cell_type": "code",
      "source": "train.application_type.value_counts()",
      "execution_count": null,
      "outputs": []
    },
    {
      "metadata": {
        "trusted": true,
        "_uuid": "62a9ea88b286127288a3e242fec401745123c10c"
      },
      "cell_type": "markdown",
      "source": "## Label Encoding"
    },
    {
      "metadata": {
        "trusted": true,
        "_uuid": "3cfe68163f3a724ad23b69a7f23b3a2c8f06782f"
      },
      "cell_type": "code",
      "source": "from sklearn.preprocessing import LabelEncoder\nle = LabelEncoder()\nfor c in train.columns:\n    if train[c].dtype == 'object':\n        if len(list(train[c].unique())) <= 2:\n            train[c] = le.fit_transform(train[c])\n            test[c] = le.transform(test[c])",
      "execution_count": null,
      "outputs": []
    },
    {
      "metadata": {
        "_uuid": "70c6b60155488136ab436a53bc01f071f08a175d"
      },
      "cell_type": "markdown",
      "source": "## One Hot Encoding"
    },
    {
      "metadata": {
        "trusted": true,
        "_uuid": "735163495b1b8284dcf10c5e0a8f29ac65ad7415"
      },
      "cell_type": "code",
      "source": "print(train.shape)\nprint(test.shape)\ntrain = pd.get_dummies(train)\ntest = pd.get_dummies(test)\nprint(train.shape)\nprint(test.shape)",
      "execution_count": null,
      "outputs": []
    },
    {
      "metadata": {
        "_uuid": "bf8b6e2f7f7498eb967df50f2b8c48eafaf57e2e"
      },
      "cell_type": "markdown",
      "source": "## Aligning training and test data"
    },
    {
      "metadata": {
        "trusted": true,
        "_uuid": "6d414537320b13657ac052ac9e7da174f0f45755"
      },
      "cell_type": "code",
      "source": "# train_label = train['default_ind']\n# # Align the training and testing data, keep only columns present in both dataframes\n# train, test = train.align(test, join = 'inner', axis = 1)\n\n# # Add the target back in\n# train['default_ind'] = train_label\n\n# print(train.shape)\n# print(test.shape)",
      "execution_count": null,
      "outputs": []
    },
    {
      "metadata": {
        "_uuid": "48730bbb8c4e9717106ceb995dcc28e5e2ccf2e2"
      },
      "cell_type": "markdown",
      "source": "## Dependent and Independent Variable"
    },
    {
      "metadata": {
        "trusted": true,
        "_uuid": "2c12ee17de3f9088c9a590d7c1e120a1dd931608"
      },
      "cell_type": "code",
      "source": "X = train.copy()\ny = X.pop('default_ind')",
      "execution_count": null,
      "outputs": []
    },
    {
      "metadata": {
        "trusted": true,
        "_uuid": "9a3b4941829dc7610f6e784f48240ac0d4707449"
      },
      "cell_type": "code",
      "source": "def split_vals(a,n):return a[:n].copy(),a[n:].copy()",
      "execution_count": null,
      "outputs": []
    },
    {
      "metadata": {
        "trusted": true,
        "_uuid": "da843b816ae39d348a36db4ef5f8395c37321c58"
      },
      "cell_type": "code",
      "source": "n_valid = len(test_df)  # same as test set size\nn_trn = len(X)-n_valid\nraw_train,raw_valid = split_vals(train_df,n_trn)\nX_train, X_valid = split_vals(X, n_trn)\ny_train, y_valid = split_vals(y, n_trn)\nX_train.shape, y_train.shape, X_valid.shape",
      "execution_count": null,
      "outputs": []
    },
    {
      "metadata": {
        "_uuid": "57cdeb5b282db88ed8ed9d2d137fed5aafdb03e8"
      },
      "cell_type": "markdown",
      "source": "## Fitting the model"
    },
    {
      "metadata": {
        "trusted": true,
        "_uuid": "f96385ba51aab4d3a51382e9002aab97e0726150"
      },
      "cell_type": "code",
      "source": "from sklearn.ensemble import RandomForestClassifier\nm = RandomForestClassifier(n_jobs=-1,oob_score=True,n_estimators=100)\n%time m.fit(X_train,y_train),m.oob_score_",
      "execution_count": null,
      "outputs": []
    },
    {
      "metadata": {
        "trusted": true,
        "_uuid": "ac9601de0697e928b54fdf28400a6845c2c244f2"
      },
      "cell_type": "code",
      "source": "from sklearn.metrics import confusion_matrix,accuracy_score,classification_report,roc_auc_score\ny_pred = m.predict(X_valid)\ncm = confusion_matrix(y_valid,y_pred)\nprint(cm)\nprint(classification_report(y_valid,y_pred))\nprint(accuracy_score(y_valid,y_pred))\nprint(roc_auc_score(y_valid,y_pred))",
      "execution_count": null,
      "outputs": []
    },
    {
      "metadata": {
        "_uuid": "dadc057358366b86c9dbacbd54ef1ac8aea99831"
      },
      "cell_type": "markdown",
      "source": "## Single Tree"
    },
    {
      "metadata": {
        "trusted": true,
        "_uuid": "291137a481586ed1c3f913ab70427bdd7acd48b3"
      },
      "cell_type": "code",
      "source": "m = RandomForestClassifier(n_estimators=1, max_depth=3, bootstrap=False, n_jobs=-1)\nm.fit(X_train, y_train)",
      "execution_count": null,
      "outputs": []
    },
    {
      "metadata": {
        "trusted": true,
        "_uuid": "e910f7c5771c7945dde81322afd5af6ebcd1b7c3"
      },
      "cell_type": "code",
      "source": "y_pred = m.predict(X_valid)\ncm = confusion_matrix(y_valid,y_pred)\nprint(cm)\nprint(classification_report(y_valid,y_pred))\nprint(accuracy_score(y_valid,y_pred))\nprint(roc_auc_score(y_valid,y_pred))",
      "execution_count": null,
      "outputs": []
    },
    {
      "metadata": {
        "trusted": true,
        "_uuid": "86c47b9d4cf05b8d8244fc5ee8deef5c1a451758"
      },
      "cell_type": "code",
      "source": "m = RandomForestClassifier(n_estimators=1, bootstrap=False, n_jobs=-1)\nm.fit(X_train, y_train)",
      "execution_count": null,
      "outputs": []
    },
    {
      "metadata": {
        "trusted": true,
        "_uuid": "995cbeebb8e38d497a8629159d48747ee67afd75",
        "scrolled": true
      },
      "cell_type": "code",
      "source": "draw_tree(m.estimators_[0], X, precision=3)",
      "execution_count": null,
      "outputs": []
    },
    {
      "metadata": {
        "trusted": true,
        "_uuid": "ba5a4a7bcc2f30401ff733901861ab7014424a8c"
      },
      "cell_type": "code",
      "source": "y_pred = m.predict(X_valid)\ncm = confusion_matrix(y_valid,y_pred)\nprint(cm)\nprint(classification_report(y_valid,y_pred))\nprint(accuracy_score(y_valid,y_pred))\nprint(roc_auc_score(y_valid,y_pred))",
      "execution_count": null,
      "outputs": []
    },
    {
      "metadata": {
        "_uuid": "f5c8411fe359c73b004950ef7d6b3321c5a4ce4b"
      },
      "cell_type": "markdown",
      "source": "## Feature Importnace"
    },
    {
      "metadata": {
        "trusted": true,
        "_uuid": "f807ae8feaa24bb2623fe14e1bd48dba7997617a"
      },
      "cell_type": "code",
      "source": "def feat_importance(m, df):\n    return pd.DataFrame({'cols':df.columns, 'imp':m.feature_importances_}).sort_values('imp', ascending=False)",
      "execution_count": null,
      "outputs": []
    },
    {
      "metadata": {
        "trusted": true,
        "_uuid": "7c7a4762b503b19be87a33a6cd784f14a899acfc"
      },
      "cell_type": "code",
      "source": "fi = feat_importance(m, X_train); fi[:10]",
      "execution_count": null,
      "outputs": []
    },
    {
      "metadata": {
        "trusted": true,
        "_uuid": "926f8f3ece9429b8b5d1d928eef41ae876bb3f44"
      },
      "cell_type": "code",
      "source": "fi.plot('cols', 'imp', figsize=(10,6), legend=False)",
      "execution_count": null,
      "outputs": []
    },
    {
      "metadata": {
        "trusted": true,
        "_uuid": "b2e4131796481d989f25cc8d29fdfe70a9e3b880"
      },
      "cell_type": "code",
      "source": "def plot_fi(fi): return fi.plot('cols', 'imp', 'barh', figsize=(12,7), legend=False)",
      "execution_count": null,
      "outputs": []
    },
    {
      "metadata": {
        "trusted": true,
        "_uuid": "3f9f1b48aad6508763a86e44df32a5cfa4347641"
      },
      "cell_type": "code",
      "source": "plot_fi(fi[:20])",
      "execution_count": null,
      "outputs": []
    }
  ],
  "metadata": {
    "kernelspec": {
      "display_name": "Python 3",
      "language": "python",
      "name": "python3"
    },
    "language_info": {
      "name": "python",
      "version": "3.6.6",
      "mimetype": "text/x-python",
      "codemirror_mode": {
        "name": "ipython",
        "version": 3
      },
      "pygments_lexer": "ipython3",
      "nbconvert_exporter": "python",
      "file_extension": ".py"
    }
  },
  "nbformat": 4,
  "nbformat_minor": 1
}